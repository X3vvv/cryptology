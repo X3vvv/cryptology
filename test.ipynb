{
 "cells": [
  {
   "cell_type": "code",
   "execution_count": 48,
   "metadata": {},
   "outputs": [],
   "source": [
    "def quarter_round(a, b, c, d):\n",
    "    '''a,b,c,d are 4 32-bit string.'''\n",
    "\n",
    "    def add(a, b):\n",
    "        return bin((int(a, 2) + int(b, 2)) % (2 ** 32))[2:].zfill(32)\n",
    "\n",
    "    def xor(a, b):\n",
    "        return bin(int(a, 2) ^ int(b, 2))[2:].zfill(32)\n",
    "\n",
    "    def lshift(n, d):\n",
    "        return bin((int(n, 2) << d | int(n, 2) >> (32 - d)) % (2**32))[2:].zfill(32)\n",
    "\n",
    "    a = add(a, b)\n",
    "    d = xor(d, a)\n",
    "    d = lshift(d, 16)\n",
    "\n",
    "    c = add(c, d)\n",
    "    b = xor(b, c)\n",
    "    b = lshift(b, 12)\n",
    "\n",
    "    a = add(a, b)\n",
    "    d = xor(d, a)\n",
    "    d = lshift(d, 8)\n",
    "\n",
    "    c = add(c, d)\n",
    "    b = xor(b, c)\n",
    "    b = lshift(b, 7)\n",
    "\n",
    "    return a, b, c, d\n"
   ]
  },
  {
   "cell_type": "code",
   "execution_count": 49,
   "metadata": {},
   "outputs": [],
   "source": [
    "test1 = '01111010011010000110000101101110011001110111100001101001011000010110111001111001011010010111001101101000011010010110010001100001'\n",
    "test2 = '11011010011010000110000101111110011001110111100001101001011110010110111001111001011010010111001101101000011010010110010001100001'\n",
    "test3 = '00110010011010000110000101100110011001110111100101101001011000010110111001111001011010010111001101101000011010010110010001100001'\n",
    "test4 = '00000010011010100110000101101110011001110010000011101001011001110110111001111001011010010111001101101000011010010110010001100001'\n",
    "test5 = '11111111111110010110000101101110011001110111100101101001011000010110011001111001011010010111001101101000011010010110010001100001'"
   ]
  },
  {
   "cell_type": "code",
   "execution_count": 53,
   "metadata": {},
   "outputs": [],
   "source": [
    "def diffusion(input)->int:\n",
    "    '''get 128 bit string, return number of bit different between input and output'''\n",
    "    a, b, c, d = input[0:32], input[32:64], input[64:96], input[96:128]\n",
    "    a,b,c,d = quarter_round(a,b,c,d)\n",
    "    res = a+b+c+d\n",
    "    cnt = 0\n",
    "    for i in range(128):\n",
    "        if input[i] != res[i]:\n",
    "            cnt +=1\n",
    "    return cnt\n"
   ]
  },
  {
   "cell_type": "code",
   "execution_count": 55,
   "metadata": {},
   "outputs": [
    {
     "data": {
      "text/plain": [
       "59.4"
      ]
     },
     "execution_count": 55,
     "metadata": {},
     "output_type": "execute_result"
    }
   ],
   "source": [
    "a = diffusion(test1)\n",
    "b = diffusion(test2)\n",
    "c = diffusion(test3)\n",
    "d = diffusion(test4)\n",
    "e = diffusion(test5)\n",
    "(a+b+c+d+e)/5"
   ]
  },
  {
   "cell_type": "code",
   "execution_count": 58,
   "metadata": {},
   "outputs": [],
   "source": [
    "from random import randint"
   ]
  },
  {
   "cell_type": "code",
   "execution_count": 61,
   "metadata": {},
   "outputs": [
    {
     "data": {
      "text/plain": [
       "'11000010000110010111110110001001011110100110100101110100011001101000010000010010110111001101110110101000000011100111011111110000'"
      ]
     },
     "execution_count": 61,
     "metadata": {},
     "output_type": "execute_result"
    }
   ],
   "source": [
    "def genBitStr(len):\n",
    "    s = ''\n",
    "    for i in range(len):\n",
    "        s += str(randint(0,1))\n",
    "    return s"
   ]
  },
  {
   "cell_type": "code",
   "execution_count": null,
   "metadata": {},
   "outputs": [],
   "source": [
    "cnt = 0\n",
    "n = 100000\n",
    "for i in range(n):\n",
    "    cnt += diffusion(genBitStr(128))\n",
    "cnt /= n\n",
    "cnt"
   ]
  },
  {
   "cell_type": "code",
   "execution_count": 2,
   "metadata": {},
   "outputs": [],
   "source": [
    "def EEA(b, m):\n",
    "    '''\n",
    "    Return the inverse of b from b (mod m), using Extended\n",
    "    Euclidean Algorithm (EEA) algorithm.\n",
    "\n",
    "    b and m fulfill: (b * b^-1) mod m = 1\n",
    "    '''\n",
    "    a1, a2, a3 = 1, 0, m\n",
    "    b1, b2, b3 = 0, 1, b\n",
    "    while (True):\n",
    "        if b3 == 0:\n",
    "            return None  # gcd(m, b) = a3\n",
    "        if b3 == 1:\n",
    "            while(b2 < 0):\n",
    "                b2 += m\n",
    "            return b2  # gcd(m, b) = b3\n",
    "        q = int(a3 / b3)  # quotient\n",
    "        a1, a2, a3, b1, b2, b3 = b1, b2, b3, a1-q*b1, a2-q*b2, a3-q*b3\n"
   ]
  },
  {
   "cell_type": "code",
   "execution_count": 8,
   "metadata": {},
   "outputs": [],
   "source": [
    "p=127\n",
    "q=167\n",
    "e=1609"
   ]
  },
  {
   "cell_type": "code",
   "execution_count": 6,
   "metadata": {},
   "outputs": [
    {
     "data": {
      "text/plain": [
       "21209"
      ]
     },
     "execution_count": 6,
     "metadata": {},
     "output_type": "execute_result"
    }
   ],
   "source": [
    "n=p*q\n",
    "n"
   ]
  },
  {
   "cell_type": "code",
   "execution_count": 7,
   "metadata": {},
   "outputs": [
    {
     "data": {
      "text/plain": [
       "20916"
      ]
     },
     "execution_count": 7,
     "metadata": {},
     "output_type": "execute_result"
    }
   ],
   "source": [
    "phi=(p-1)*(q-1)\n",
    "phi"
   ]
  },
  {
   "cell_type": "code",
   "execution_count": 9,
   "metadata": {},
   "outputs": [
    {
     "data": {
      "text/plain": [
       "13"
      ]
     },
     "execution_count": 9,
     "metadata": {},
     "output_type": "execute_result"
    }
   ],
   "source": [
    "EEA(e, phi)"
   ]
  },
  {
   "cell_type": "code",
   "execution_count": 10,
   "metadata": {},
   "outputs": [
    {
     "data": {
      "text/plain": [
       "16050"
      ]
     },
     "execution_count": 10,
     "metadata": {},
     "output_type": "execute_result"
    }
   ],
   "source": [
    "(14**13)%n\n"
   ]
  }
 ],
 "metadata": {
  "interpreter": {
   "hash": "7280fd4b02f0a7fd8f9d02d2e480cdba4a6c31f1f568d35ddf3d667ef85447c5"
  },
  "kernelspec": {
   "display_name": "Python 3.9.7 ('base')",
   "language": "python",
   "name": "python3"
  },
  "language_info": {
   "codemirror_mode": {
    "name": "ipython",
    "version": 3
   },
   "file_extension": ".py",
   "mimetype": "text/x-python",
   "name": "python",
   "nbconvert_exporter": "python",
   "pygments_lexer": "ipython3",
   "version": "3.9.7"
  },
  "orig_nbformat": 4
 },
 "nbformat": 4,
 "nbformat_minor": 2
}
